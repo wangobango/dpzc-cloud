{
 "cells": [
  {
   "cell_type": "code",
   "execution_count": 126,
   "metadata": {},
   "outputs": [],
   "source": [
    "with open(\"token.txt\", \"r\") as file:\n",
    "    token_txt = file.read()\n",
    "\n",
    "with open(\"ssh_key.txt\", \"r\") as file:\n",
    "    ssh_key_text = file.read()\n"
   ]
  },
  {
   "cell_type": "code",
   "execution_count": 127,
   "metadata": {},
   "outputs": [],
   "source": [
    "from hcloud import Client\n",
    "client = Client(\n",
    "    token=token_txt\n",
    ")"
   ]
  },
  {
   "cell_type": "code",
   "execution_count": 128,
   "metadata": {},
   "outputs": [],
   "source": [
    "ssh_key_name = \"ramdyz@st.amu.edu.pl\"\n",
    "\n",
    "if(client.ssh_keys.get_by_name(ssh_key_name)):\n",
    "    ssh_key = client.ssh_keys.get_by_name(ssh_key_name)\n",
    "else:\n",
    "    ssh_key = client.ssh_keys.create(name=ssh_key_name, public_key=ssh_key_text)\n"
   ]
  },
  {
   "cell_type": "code",
   "execution_count": 129,
   "metadata": {},
   "outputs": [
    {
     "name": "stdout",
     "output_type": "stream",
     "text": [
      "Utworzono sieć wirtualną rd-network-test (10.10.10.0/24)\n"
     ]
    }
   ],
   "source": [
    "from hcloud.networks.domain import NetworkSubnet\n",
    "\n",
    "network_name = \"rd-network-test\"\n",
    "\n",
    "if(client.networks.get_by_name(network_name)):\n",
    "    vnet = client.networks.get_by_name(network_name)\n",
    "else:\n",
    "    vnet = client.networks.create(\n",
    "        name=\"rd-network-test\", \n",
    "        ip_range=\"10.10.10.0/24\", \n",
    "        subnets=[\n",
    "            NetworkSubnet(ip_range=\"10.10.10.0/24\", network_zone=\"eu-central\", type=\"cloud\")\n",
    "        ]\n",
    "    )\n",
    "print(f\"Utworzono sieć wirtualną {vnet.data_model.name} ({vnet.data_model.ip_range})\")"
   ]
  },
  {
   "cell_type": "code",
   "execution_count": 130,
   "metadata": {},
   "outputs": [],
   "source": [
    "from hcloud.locations.domain import Location\n",
    "\n",
    "volume_name = \"rd-volume-test\"\n",
    "\n",
    "if(client.volumes.get_by_name(volume_name)):\n",
    "    volume = client.volumes.get_by_name(volume_name)\n",
    "else:\n",
    "    volume = client.volumes.create(size=10, name=volume_name, location=Location('hel1'))\n"
   ]
  },
  {
   "cell_type": "code",
   "execution_count": 131,
   "metadata": {},
   "outputs": [],
   "source": [
    "cloud_init_db = r'''#cloud-config\n",
    "\n",
    "packages:\n",
    "  - apt-transport-https\n",
    "  - ca-certificates\n",
    "  - curl\n",
    "  - gnupg-agent\n",
    "  - software-properties-common\n",
    "\n",
    "write_files:\n",
    "  - path: /root/docker-compose.yml\n",
    "    content: |\n",
    "        version: '3.9'\n",
    "\n",
    "        services:\n",
    "          db:\n",
    "              image: mysql:5.7\n",
    "              restart: always\n",
    "              ports:\n",
    "                - \"10.10.10.2:3306:3306\"\n",
    "              environment:\n",
    "                MYSQL_ROOT_PASSWORD: gitea\n",
    "                MYSQL_DATABASE: gitea\n",
    "                MYSQL_USER: gitea\n",
    "                MYSQL_PASSWORD: gitea\n",
    "              volumes:\n",
    "                - db_data:/var/lib/mysql\n",
    "\n",
    "          phpmyadmin:\n",
    "              image: phpmyadmin\n",
    "              restart: always\n",
    "              ports:\n",
    "                - \"8080:80\"\n",
    "                \n",
    "        volumes:\n",
    "          db_data: {}\n",
    "\n",
    "runcmd:\n",
    "  - curl -fsSL https://download.docker.com/linux/ubuntu/gpg | apt-key add -\n",
    "  - add-apt-repository \"deb [arch=amd64] https://download.docker.com/linux/ubuntu $(lsb_release -cs) stable\"\n",
    "  - apt-get update -y\n",
    "  - apt-get install -y docker-ce docker-ce-cli containerd.io\n",
    "  - curl -L \"https://github.com/docker/compose/releases/download/1.29.2/docker-compose-$(uname -s)-$(uname -m)\" -o /usr/local/bin/docker-compose\n",
    "  - chmod +x /usr/local/bin/docker-compose\n",
    "  - systemctl start docker\n",
    "  - systemctl enable docker\n",
    "  - cd /root/ && docker-compose up -d\n",
    "'''"
   ]
  },
  {
   "cell_type": "code",
   "execution_count": 132,
   "metadata": {},
   "outputs": [],
   "source": [
    "from hcloud.locations.domain import Location\n",
    "from hcloud.images.domain import Image\n",
    "from hcloud.server_types.domain import ServerType\n",
    "\n",
    "db_server_name = \"rd-db-test\"\n",
    "if(client.servers.get_by_name(db_server_name)):\n",
    "    db_server = client.servers.get_by_name(db_server_name)\n",
    "else:\n",
    "    db_server = client.servers.create(\n",
    "        name=db_server_name, \n",
    "        server_type=ServerType(\"cpx11\"), \n",
    "        image=Image(name=\"ubuntu-20.04\"), \n",
    "        ssh_keys=[ssh_key], \n",
    "        networks=[vnet], \n",
    "        location=Location(\"hel1\"), \n",
    "        user_data=cloud_init_db\n",
    "    )\n"
   ]
  },
  {
   "cell_type": "code",
   "execution_count": 133,
   "metadata": {},
   "outputs": [],
   "source": [
    "gitea_cloud_init = r'''#cloud-config\n",
    "\n",
    "packages:\n",
    "  - apt-transport-https\n",
    "  - ca-certificates\n",
    "  - curl\n",
    "  - gnupg-agent\n",
    "  - software-properties-common\n",
    "\n",
    "write_files:\n",
    "  - path: /root/docker-compose.yml\n",
    "    content: |\n",
    "        version: '3.9'\n",
    "        \n",
    "        services:\n",
    "          server:\n",
    "            image: gitea/gitea:1.15.6-rootless\n",
    "            environment:\n",
    "              GITEA__database__DB_TYPE: mysql\n",
    "              GITEA__database__HOST: 10.10.10.2:3306    \n",
    "              GITEA__database__NAME: gitea\n",
    "              GITEA__database__USER: gitea\n",
    "              GITEA__database__PASSWD: gitea\n",
    "            restart: always\n",
    "            volumes:\n",
    "              - ./data:/root/gitea\n",
    "              - ./config:/root/gitea/config\n",
    "              - /etc/timezone:/etc/timezone:ro\n",
    "              - /etc/localtime:/etc/localtime:ro\n",
    "              - /mnt/volume:/data\n",
    "            ports:\n",
    "              - \"3000:3000\"\n",
    "              - \"222:22\" \n",
    "\n",
    "runcmd:\n",
    "  - curl -fsSL https://download.docker.com/linux/ubuntu/gpg | apt-key add -\n",
    "  - add-apt-repository \"deb [arch=amd64] https://download.docker.com/linux/ubuntu $(lsb_release -cs) stable\"\n",
    "  - apt-get update -y\n",
    "  - apt-get install -y docker-ce docker-ce-cli containerd.io\n",
    "  - curl -L \"https://github.com/docker/compose/releases/download/1.29.2/docker-compose-$(uname -s)-$(uname -m)\" -o /usr/local/bin/docker-compose\n",
    "  - chmod +x /usr/local/bin/docker-compose\n",
    "  - systemctl start docker\n",
    "  - systemctl enable docker\n",
    "  - cd /root/ && docker-compose up -d\n",
    "  - chmod a+w /mnt/*\n",
    "'''"
   ]
  },
  {
   "cell_type": "code",
   "execution_count": 134,
   "metadata": {},
   "outputs": [],
   "source": [
    "from hcloud.images.domain import Image\n",
    "from hcloud.server_types.domain import ServerType\n",
    "from hcloud.volumes.domain import Volume\n",
    "\n",
    "db_server_name = \"rd-gitea-test\"\n",
    "if(client.servers.get_by_name(db_server_name)):\n",
    "    gitea_server = client.servers.get_by_name(db_server_name)\n",
    "else:\n",
    "    gitea_server = client.servers.create(\n",
    "        name=db_server_name, \n",
    "        server_type=ServerType(\"cpx11\"), \n",
    "        image=Image(name=\"ubuntu-20.04\"), \n",
    "        ssh_keys=[ssh_key], \n",
    "        networks=[vnet], \n",
    "        location=Location(\"hel1\"), \n",
    "        user_data=gitea_cloud_init,\n",
    "        volumes=[volume.volume]\n",
    "    )\n"
   ]
  },
  {
   "cell_type": "code",
   "execution_count": 138,
   "metadata": {},
   "outputs": [
    {
     "data": {
      "text/plain": [
       "True"
      ]
     },
     "execution_count": 138,
     "metadata": {},
     "output_type": "execute_result"
    }
   ],
   "source": [
    "gitea_server.server.delete()\n",
    "db_server.server.delete()\n",
    "vnet.delete()\n",
    "volume.volume.delete()\n",
    "ssh_key.delete()\n",
    "\n"
   ]
  }
 ],
 "metadata": {
  "interpreter": {
   "hash": "a7aa5cfb556146956449406d034532a495edb82546adca3f3e4a0958efc60431"
  },
  "kernelspec": {
   "display_name": "Python 3.8.10 64-bit ('venv': venv)",
   "language": "python",
   "name": "python3"
  },
  "language_info": {
   "codemirror_mode": {
    "name": "ipython",
    "version": 3
   },
   "file_extension": ".py",
   "mimetype": "text/x-python",
   "name": "python",
   "nbconvert_exporter": "python",
   "pygments_lexer": "ipython3",
   "version": "3.8.10"
  },
  "orig_nbformat": 4
 },
 "nbformat": 4,
 "nbformat_minor": 2
}
